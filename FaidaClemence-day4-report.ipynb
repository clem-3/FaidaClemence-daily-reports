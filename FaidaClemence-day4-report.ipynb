{
 "cells": [
  {
   "cell_type": "markdown",
   "id": "bc55f06c-d500-4e10-a813-d82352fbcbd5",
   "metadata": {},
   "source": [
    "## 1. What is Git?\n",
    "\n",
    "* Git is a **distributed version control system (DVCS)**.\n",
    "* Tracks changes in files (usually code).\n",
    "* Enables collaboration and history management.\n",
    "\n",
    "**Why Git?**\n",
    "\n",
    "* Keeps a **history** of all changes.\n",
    "* Helps in **collaborating** with teams.\n",
    "* Supports **branching and merging** for multiple development paths.\n"
   ]
  },
  {
   "cell_type": "markdown",
   "id": "04da0406-805d-436e-8d4e-d111065aa928",
   "metadata": {},
   "source": [
    "## 2. Git Setup\n",
    "\n",
    "Before using Git, configure your identity:\n",
    "\n",
    "```bash\n",
    "git config --global user.name \"Faida Clemence\"\n",
    "git config --global user.email \"faidacle@gmail.com\"\n",
    "```"
   ]
  },
  {
   "cell_type": "markdown",
   "id": "d32d40d7-1dd0-4ed7-93a4-43ce36362e5e",
   "metadata": {},
   "source": [
    "Check configuration:\n",
    "\n",
    "```bash\n",
    "git config --list\n",
    "```\n",
    "\n",
    "---"
   ]
  },
  {
   "cell_type": "markdown",
   "id": "ee56346d-8c23-4cfd-b237-d8a8b80a0e24",
   "metadata": {},
   "source": [
    "## 3. Creating a Repository\n",
    "\n",
    "```bash\n",
    "# Initialize a new git repository\n",
    "git init\n",
    "\n",
    "# Check repository status\n",
    "git status\n",
    "```"
   ]
  },
  {
   "cell_type": "markdown",
   "id": "574d8d2d-3507-4001-8716-9c31ad3a3c44",
   "metadata": {},
   "source": [
    "This creates a hidden `.git` folder in your project.\n",
    "\n",
    "---\n",
    "\n",
    "## 4. Staging and Committing\n",
    "\n",
    "```bash\n",
    "# Add a single file\n",
    "git add file.py\n",
    "\n",
    "# Add all files\n",
    "git add .\n",
    "\n",
    "# Commit changes\n",
    "git commit -m \"Initial commit\"\n",
    "```"
   ]
  },
  {
   "cell_type": "markdown",
   "id": "2b504dc6-aec2-405b-ab12-24840028cdc6",
   "metadata": {},
   "source": [
    "**Workflow:**\n",
    "\n",
    "1. Edit file(s)\n",
    "2. Stage (`git add`)\n",
    "3. Commit (`git commit`)\n",
    "\n",
    "---"
   ]
  },
  {
   "cell_type": "markdown",
   "id": "c5293e90-e8e2-4858-aee5-2af91b2094a5",
   "metadata": {},
   "source": [
    "## 5. Viewing History\n",
    "\n",
    "```bash\n",
    "git log            # Full history\n",
    "git log --oneline  # Short summary\n",
    "git diff           # See unstaged changes\n",
    "```"
   ]
  },
  {
   "cell_type": "markdown",
   "id": "1d28c13e-8cfa-4cca-be65-3a3c218f23c0",
   "metadata": {},
   "source": [
    "---\n",
    "\n",
    "## 6. Branching and Merging\n",
    "\n",
    "Branches allow working on features separately.\n",
    "\n",
    "```bash\n",
    "# Create a branch\n",
    "git branch feature-x\n",
    "\n",
    "# Switch to branch\n",
    "git checkout feature-x\n",
    "\n",
    "# Make changes, add, and commit...\n",
    "\n",
    "# Switch back to main branch\n",
    "git checkout main\n",
    "\n",
    "# Merge branch into main\n",
    "git merge feature-x\n",
    "```"
   ]
  },
  {
   "cell_type": "markdown",
   "id": "f66d6c80-b745-422d-acca-9254c3f2a8ff",
   "metadata": {},
   "source": [
    "---\n",
    "\n",
    "## 7. Undoing and Resetting\n",
    "\n",
    "```bash\n",
    "# Unstage a file\n",
    "git reset HEAD filename.py\n",
    "\n",
    "# Discard changes to a file\n",
    "git checkout -- filename.py\n",
    "\n",
    "# Reset everything to last commit\n",
    "git reset --hard HEAD\n",
    "```\n",
    "\n",
    "---"
   ]
  },
  {
   "cell_type": "markdown",
   "id": "a995f770-1faf-4edd-986b-67fd499942ff",
   "metadata": {},
   "source": [
    "## 8. Ignoring Files\n",
    "\n",
    "Use `.gitignore` file to exclude unnecessary files (logs, temp files, etc.):\n",
    "\n",
    "**Example `.gitignore`:**\n",
    "\n",
    "```\n",
    "*.log\n",
    "*.tmp\n",
    "__pycache__/\n",
    "```\n",
    "\n",
    "---"
   ]
  },
  {
   "cell_type": "markdown",
   "id": "19cc475e-2575-4029-80e0-194a6a29ea36",
   "metadata": {},
   "source": [
    "## 9. Practical Example\n",
    "\n",
    "```bash\n",
    "# Step 1: Create project folder\n",
    "mkdir my_project && cd my_project\n",
    "\n",
    "# Step 2: Initialize git\n",
    "git init\n",
    "\n",
    "# Step 3: Create a file\n",
    "echo \"print('Hello Git')\" > app.py\n",
    "\n",
    "# Step 4: Stage and commit\n",
    "git add app.py\n",
    "git commit -m \"Add first Python script\"\n",
    "\n",
    "# Step 5: Check log\n",
    "git log --oneline\n",
    "```\n",
    "\n",
    "---"
   ]
  },
  {
   "cell_type": "code",
   "execution_count": 3,
   "id": "32f8e724-b599-4e26-978f-9d6226d5ad83",
   "metadata": {},
   "outputs": [
    {
     "ename": "SyntaxError",
     "evalue": "invalid syntax (1088658779.py, line 3)",
     "output_type": "error",
     "traceback": [
      "\u001b[1;36m  Cell \u001b[1;32mIn[3], line 3\u001b[1;36m\u001b[0m\n\u001b[1;33m    * **Git** helps track code history and enables teamwork.\u001b[0m\n\u001b[1;37m      ^\u001b[0m\n\u001b[1;31mSyntaxError\u001b[0m\u001b[1;31m:\u001b[0m invalid syntax\n"
     ]
    }
   ],
   "source": [
    "# Summary\n",
    "\n",
    "* **Git** helps track code history and enables teamwork.\n",
    "* **Commands covered**: `git init`, `git add`, `git commit`, `git log`, `git diff`, `git branch`, `git merge`, `git reset`.\n",
    "* Using **.gitignore** keeps repos clean.\n",
    "\n",
    "Mastering Git ensures your projects remain **organized, traceable, and collaborative**.\n",
    "\n",
    "---\n",
    "\n",
    "👉 Do you want me to **combine Day 1 (Python) and Day 4 (Git)** into one **full professional PDF report**, or keep them as **separate study files**?"
   ]
  },
  {
   "cell_type": "code",
   "execution_count": null,
   "id": "00974412-07da-400b-b636-1eaaea37805f",
   "metadata": {},
   "outputs": [],
   "source": []
  }
 ],
 "metadata": {
  "kernelspec": {
   "display_name": "Python 3 (ipykernel)",
   "language": "python",
   "name": "python3"
  },
  "language_info": {
   "codemirror_mode": {
    "name": "ipython",
    "version": 3
   },
   "file_extension": ".py",
   "mimetype": "text/x-python",
   "name": "python",
   "nbconvert_exporter": "python",
   "pygments_lexer": "ipython3",
   "version": "3.10.18"
  }
 },
 "nbformat": 4,
 "nbformat_minor": 5
}
