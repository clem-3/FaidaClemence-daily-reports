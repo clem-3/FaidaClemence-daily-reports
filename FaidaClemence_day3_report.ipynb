{
 "cells": [
  {
   "cell_type": "markdown",
   "id": "5dc4c6ea-418f-4176-9b6f-622aba144784",
   "metadata": {},
   "source": [
    "## 1. What is Python?\n",
    "\n",
    "* Python is a **high-level, interpreted, object-oriented language**.\n",
    "* Widely used in **data science, AI, web development, and automation**.\n",
    "* Emphasizes readability and simplicity."
   ]
  },
  {
   "cell_type": "code",
   "execution_count": 15,
   "id": "6ad7fc1b-5657-46c2-b98c-e28c3fd793ee",
   "metadata": {},
   "outputs": [
    {
     "name": "stdout",
     "output_type": "stream",
     "text": [
      "Hello, Python!\n"
     ]
    }
   ],
   "source": [
    "\n",
    "print(\"Hello, Python!\")  # Output: Hello, Python"
   ]
  },
  {
   "cell_type": "markdown",
   "id": "4fe87dd6-c066-44b7-8fb3-7af96620aa39",
   "metadata": {},
   "source": [
    "## 2. Variables and Data Types\n",
    "\n",
    "* **Integer** → whole numbers\n",
    "* **Float** → decimals\n",
    "* **String** → text\n",
    "* **Boolean** → True/False\n",
    "\n",
    "**Example:**"
   ]
  },
  {
   "cell_type": "code",
   "execution_count": 9,
   "id": "97929d1f-5833-4903-9412-4a48db608d7e",
   "metadata": {},
   "outputs": [
    {
     "name": "stdout",
     "output_type": "stream",
     "text": [
      "<class 'int'>\n",
      "<class 'float'>\n",
      "<class 'str'>\n",
      "<class 'bool'>\n"
     ]
    }
   ],
   "source": [
    "\n",
    "x = 42        # integer\n",
    "pi = 3.1416   # float\n",
    "name = \"Clemence\"  # string\n",
    "is_active = True   # boolean\n",
    "\n",
    "print(type(x))    # <class 'int'>\n",
    "print(type(pi))   # <class 'float'>\n",
    "print(type(name)) # <class 'str'>\n",
    "print(type(is_active)) # <class 'bool'>\n",
    "\n",
    "\n"
   ]
  },
  {
   "cell_type": "markdown",
   "id": "7b8db500-62cf-4fe8-adcd-61b6a9d07df0",
   "metadata": {},
   "source": [
    "## 3. Arithmetic Operations\n",
    "\n",
    "Python supports standard mathematical operators."
   ]
  },
  {
   "cell_type": "code",
   "execution_count": 13,
   "id": "59d29045-2e78-4995-8f30-1e4db0a00a38",
   "metadata": {},
   "outputs": [
    {
     "name": "stdout",
     "output_type": "stream",
     "text": [
      "19\n",
      "11\n",
      "60\n",
      "3.75\n",
      "3\n",
      "3\n",
      "50625\n"
     ]
    }
   ],
   "source": [
    "\n",
    "\n",
    "a, b = 15, 4\n",
    "\n",
    "print(a + b)   # 19\n",
    "print(a - b)   # 11\n",
    "print(a * b)   # 60\n",
    "print(a / b)   # 3.75\n",
    "print(a // b)  # 3 (floor division)\n",
    "print(a % b)   # 3 (modulus)\n",
    "print(a ** b)  # 50625 (exponentiation)\n"
   ]
  },
  {
   "cell_type": "markdown",
   "id": "d5ff64b3-b83f-4a0c-a53e-ffea205889cb",
   "metadata": {},
   "source": [
    "## 4. Strings\n",
    "\n",
    "Strings are text enclosed in quotes."
   ]
  },
  {
   "cell_type": "code",
   "execution_count": 14,
   "id": "f9b61f9f-da4e-4ff7-b514-e9f1598ac940",
   "metadata": {},
   "outputs": [
    {
     "name": "stdout",
     "output_type": "stream",
     "text": [
      "PYTHON IS POWERFUL\n",
      "python is powerful\n",
      "Python Is Powerful\n",
      "['Python', 'is', 'powerful']\n",
      "My name is Faida, I am 25 years old.\n"
     ]
    }
   ],
   "source": [
    "\n",
    "msg = \"Python is powerful\"\n",
    "\n",
    "print(msg.upper())      # PYTHON IS POWERFUL\n",
    "print(msg.lower())      # python is powerful\n",
    "print(msg.title())      # Python Is Powerful\n",
    "print(msg.split())      # ['Python', 'is', 'powerful']\n",
    "\n",
    "# Formatting\n",
    "name, age = \"Faida\", 25\n",
    "print(f\"My name is {name}, I am {age} years old.\")"
   ]
  },
  {
   "cell_type": "markdown",
   "id": "b4aaea78-8439-4ff1-8b67-41296c288644",
   "metadata": {},
   "source": [
    "## 5. Functions\n",
    "\n",
    "Reusable blocks of code."
   ]
  },
  {
   "cell_type": "code",
   "execution_count": 16,
   "id": "b40e156d-908c-4944-bc9e-04db6a602db7",
   "metadata": {},
   "outputs": [
    {
     "name": "stdout",
     "output_type": "stream",
     "text": [
      "25\n"
     ]
    }
   ],
   "source": [
    "\n",
    "def square(n):\n",
    "    return n * n\n",
    "\n",
    "print(square(5))  # Output: 25"
   ]
  },
  {
   "cell_type": "markdown",
   "id": "a81fcac4-79f0-40ad-8671-f653368c84cf",
   "metadata": {},
   "source": [
    "## 6. Data Structures\n",
    "\n",
    "### Lists"
   ]
  },
  {
   "cell_type": "code",
   "execution_count": 18,
   "id": "61b8817d-047b-46fb-974b-41b109354fa7",
   "metadata": {},
   "outputs": [
    {
     "name": "stdout",
     "output_type": "stream",
     "text": [
      "['apple', 'banana', 'mango', 'orange']\n",
      "apple\n",
      "banana\n",
      "mango\n",
      "orange\n"
     ]
    }
   ],
   "source": [
    "\n",
    "fruits = [\"apple\", \"banana\", \"mango\"]\n",
    "fruits.append(\"orange\")     # add item\n",
    "print(fruits)               # ['apple', 'banana', 'mango', 'orange']\n",
    "\n",
    "for fruit in fruits:\n",
    "    print(fruit)"
   ]
  },
  {
   "cell_type": "code",
   "execution_count": 21,
   "id": "d4b8c6e9-dd66-42a0-8e53-563939ce0d5e",
   "metadata": {},
   "outputs": [
    {
     "name": "stdout",
     "output_type": "stream",
     "text": [
      "Faida\n",
      "{'name': 'Faida', 'age': 25, 'grade': 'A'}\n"
     ]
    }
   ],
   "source": [
    "### Dictionaries\n",
    "\n",
    "student = {\"name\": \"Faida\", \"age\": 25}\n",
    "print(student[\"name\"])    # Faida\n",
    "\n",
    "student[\"grade\"] = \"A\"    # add new key\n",
    "print(student)"
   ]
  },
  {
   "cell_type": "markdown",
   "id": "742cc873-7424-4070-98da-f9800d21f5b9",
   "metadata": {},
   "source": [
    "# Summary\n",
    "\n",
    "* Python is simple yet powerful.\n",
    "* We covered **variables, data types, operators, strings, control flow, functions, data structures, file handling, and libraries**."
   ]
  },
  {
   "cell_type": "code",
   "execution_count": null,
   "id": "86d09797-cf2b-4f77-a022-bc7db3ea3bf9",
   "metadata": {},
   "outputs": [],
   "source": []
  }
 ],
 "metadata": {
  "kernelspec": {
   "display_name": "Python 3 (ipykernel)",
   "language": "python",
   "name": "python3"
  },
  "language_info": {
   "codemirror_mode": {
    "name": "ipython",
    "version": 3
   },
   "file_extension": ".py",
   "mimetype": "text/x-python",
   "name": "python",
   "nbconvert_exporter": "python",
   "pygments_lexer": "ipython3",
   "version": "3.10.18"
  }
 },
 "nbformat": 4,
 "nbformat_minor": 5
}
