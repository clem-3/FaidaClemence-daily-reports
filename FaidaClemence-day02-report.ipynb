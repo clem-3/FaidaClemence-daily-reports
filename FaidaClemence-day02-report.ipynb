{
 "cells": [
  {
   "cell_type": "markdown",
   "id": "3e174422-97c1-49a7-8f8d-779e4cc10e6d",
   "metadata": {},
   "source": [
    "****\n",
    "\n",
    "# <center> <b> <span style=\"color:orange;\"> Python Proficiency for Scientific Computing and Data Science (PyPro-SCiDaS)  </span> </b></center>\n",
    "\n",
    "### <center> <b> <span style=\"color:green;\">An Initiation to Programming using Python (Init2Py) </span> </b></center>\n",
    "    "
   ]
  },
  {
   "cell_type": "markdown",
   "id": "2b966796-d6bf-4f5e-aca7-3e836b03c1fd",
   "metadata": {},
   "source": [
    "### 1.Implicit Coercion"
   ]
  },
  {
   "cell_type": "code",
   "execution_count": 1,
   "id": "c1fb3154-1abe-4ef2-846b-6abd0d9320bd",
   "metadata": {},
   "outputs": [
    {
     "data": {
      "text/plain": [
       "35.3"
      ]
     },
     "execution_count": 1,
     "metadata": {},
     "output_type": "execute_result"
    }
   ],
   "source": [
    "x = 20 # int\n",
    "y = 15.3 # float\n",
    "\n",
    "x + y # adding int and float"
   ]
  },
  {
   "cell_type": "code",
   "execution_count": 2,
   "id": "c35fde46-1317-47fa-8241-b9623def88fb",
   "metadata": {},
   "outputs": [
    {
     "data": {
      "text/plain": [
       "float"
      ]
     },
     "execution_count": 2,
     "metadata": {},
     "output_type": "execute_result"
    }
   ],
   "source": [
    "type(x + y)"
   ]
  },
  {
   "cell_type": "code",
   "execution_count": 3,
   "id": "e9f432a9-0b1d-4b05-bd87-68f3a3a47d2e",
   "metadata": {},
   "outputs": [
    {
     "data": {
      "text/plain": [
       "int"
      ]
     },
     "execution_count": 3,
     "metadata": {},
     "output_type": "execute_result"
    }
   ],
   "source": [
    "type(x)"
   ]
  },
  {
   "cell_type": "code",
   "execution_count": 4,
   "id": "6a1677e7-e3c4-4420-b23b-f49d4d748e79",
   "metadata": {},
   "outputs": [
    {
     "data": {
      "text/plain": [
       "float"
      ]
     },
     "execution_count": 4,
     "metadata": {},
     "output_type": "execute_result"
    }
   ],
   "source": [
    "type(y)"
   ]
  },
  {
   "cell_type": "markdown",
   "id": "5014ada2-cbff-4785-91d1-bba50cd287d1",
   "metadata": {},
   "source": [
    "### 2. explicit Coercion"
   ]
  },
  {
   "cell_type": "code",
   "execution_count": 24,
   "id": "b5b71251-7aa6-4425-b3e6-8713acaca78b",
   "metadata": {},
   "outputs": [
    {
     "name": "stdout",
     "output_type": "stream",
     "text": [
      "<class 'float'>\n",
      "2\n",
      "<class 'int'>\n",
      "True\n",
      "<class 'bool'>\n"
     ]
    }
   ],
   "source": [
    "# Converting a float to an integer and to bool\n",
    "t = 2.4\n",
    "z = int(t) \n",
    "y = bool(z)\n",
    "\n",
    "print(type(t))\n",
    "type(t)\n",
    "print(2) \n",
    "\n",
    "print(type(z))\n",
    "type(z)\n",
    "print(y)\n",
    "print(type(y))\n"
   ]
  },
  {
   "cell_type": "markdown",
   "id": "ad2a7d3d-1f34-4f21-9d8f-a40712496647",
   "metadata": {},
   "source": []
  },
  {
   "cell_type": "code",
   "execution_count": 33,
   "id": "5b226e98-e162-4e3d-9dcf-6b64b4ade6dd",
   "metadata": {},
   "outputs": [
    {
     "name": "stdout",
     "output_type": "stream",
     "text": [
      "I have 1.67 one meter and 67 cm\n"
     ]
    }
   ],
   "source": [
    "#string to integer\n",
    "\n",
    "height = 1.67 \n",
    "length = \"I have \" +  str(height) + \" one meter and 67 cm\"\n",
    "print(length)\n"
   ]
  },
  {
   "cell_type": "code",
   "execution_count": 37,
   "id": "ebeca362-7c19-444e-8508-bc7e4a67f0ee",
   "metadata": {},
   "outputs": [
    {
     "name": "stdout",
     "output_type": "stream",
     "text": [
      " var_1 = False var_2 = True\n"
     ]
    }
   ],
   "source": [
    "# Assign values\n",
    "var_1 = 100\n",
    "var_2 = 200\n",
    "\n",
    "var_1 =  True\n",
    "var_2 = False\n",
    "\n",
    "# Swap values\n",
    "var_1, var_2 = var_2, var_1\n",
    "\n",
    "print(\" var_1 =\", var_1, \"var_2 =\", var_2)\n"
   ]
  },
  {
   "cell_type": "code",
   "execution_count": null,
   "id": "095c3f1c-ff4a-4c9a-8597-f0f86dc20c9e",
   "metadata": {},
   "outputs": [],
   "source": []
  }
 ],
 "metadata": {
  "kernelspec": {
   "display_name": "Python 3 (ipykernel)",
   "language": "python",
   "name": "python3"
  },
  "language_info": {
   "codemirror_mode": {
    "name": "ipython",
    "version": 3
   },
   "file_extension": ".py",
   "mimetype": "text/x-python",
   "name": "python",
   "nbconvert_exporter": "python",
   "pygments_lexer": "ipython3",
   "version": "3.10.18"
  }
 },
 "nbformat": 4,
 "nbformat_minor": 5
}
